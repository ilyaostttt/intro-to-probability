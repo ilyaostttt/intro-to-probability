{
 "cells": [
  {
   "cell_type": "markdown",
   "metadata": {},
   "source": [
    "# Chapter 1"
   ]
  },
  {
   "cell_type": "markdown",
   "metadata": {},
   "source": [
    "## Ex. 8"
   ]
  },
  {
   "cell_type": "markdown",
   "metadata": {},
   "source": [
    "(a) How many ways are there to split a dozen people into 3 teams, where one team\n",
    "has 2 people, and the other two teams have 5 people each?"
   ]
  },
  {
   "cell_type": "code",
   "execution_count": 1,
   "metadata": {},
   "outputs": [
    {
     "data": {
      "text/plain": [
       "8316.0"
      ]
     },
     "execution_count": 1,
     "metadata": {},
     "output_type": "execute_result"
    }
   ],
   "source": [
    "from scipy.special import comb\n",
    "\n",
    "comb(12, 2) * comb(10, 5) / 2"
   ]
  },
  {
   "cell_type": "markdown",
   "metadata": {},
   "source": [
    "We need to divide the second item by 2 since two teams of 5 are indistinguishable and therefore each combination is counted twice:\n",
    " - the first time when it is selected as team 1 and remaining members go to team 2 and\n",
    " - the second time when remaining members are selected for team 1.\n",
    " \n",
    "In fact selection introduces team labeling implicitly while teams are actually indistinguishable."
   ]
  },
  {
   "cell_type": "markdown",
   "metadata": {},
   "source": [
    "(b) How many ways are there to split a dozen people into 3 teams, where each team has\n",
    "4 people?"
   ]
  },
  {
   "cell_type": "code",
   "execution_count": 5,
   "metadata": {},
   "outputs": [
    {
     "data": {
      "text/plain": [
       "5775.0"
      ]
     },
     "execution_count": 5,
     "metadata": {},
     "output_type": "execute_result"
    }
   ],
   "source": [
    "comb(12, 4) * comb(8, 4) / 6"
   ]
  },
  {
   "cell_type": "markdown",
   "metadata": {},
   "source": [
    "## Ex. 9\n",
    "\n",
    "(a) How many paths are there from the point (0; 0) to the point (110; 111) in the\n",
    "plane such that each step either consists of going one unit up or one unit to the right?\n",
    "\n",
    "(b) How many paths are there from (0; 0) to (210; 211), where each step consists of going\n",
    "one unit up or one unit to the right, and the path has to go through (110; 111)?"
   ]
  },
  {
   "cell_type": "markdown",
   "metadata": {},
   "source": [
    "a) $\\binom{221}{110}$ since we have 221 steps in total and we can choose when to move up (or right), other steps must be in another direction\n"
   ]
  },
  {
   "cell_type": "markdown",
   "metadata": {},
   "source": [
    "## Ex. 15 "
   ]
  },
  {
   "cell_type": "markdown",
   "metadata": {},
   "source": [
    "Give a story proof that $\\sum_{k=0}^n \\binom{n}{k} = 2^n$"
   ]
  },
  {
   "cell_type": "markdown",
   "metadata": {},
   "source": [
    "Sum on the left enumerates all the subsets of various sizes of a set consisting of `n` elements. Let's prove that there are $2^n$ subsets of a set consisting of `n` elements. We can prove it by induction assuming that it is true for sets of size `n - 1` and observing that adding a new element doubles the number of existing subsets by generating a new subset containing new element."
   ]
  },
  {
   "cell_type": "markdown",
   "metadata": {},
   "source": [
    "## Ex. 16"
   ]
  },
  {
   "cell_type": "markdown",
   "metadata": {},
   "source": [
    "Show that for all positive integers `n` and `k` with `n >= k`: $$\\binom{n}{k} + \\binom{n}{k - 1} = \\binom{n + 1}{k} $$"
   ]
  },
  {
   "cell_type": "markdown",
   "metadata": {},
   "source": [
    "Story: if we select any element of the set of `n + 1` elements in the right item we can split $\\binom{n + 1}{k}$ combinations into two groups:\n",
    " - 1st group containing selected element: there are $\\binom{n}{k - 1}$ such combinations since we have only `n` elements to choose from and one of the `k` places is occupied\n",
    " - 2nd group of $\\binom{n}{k}$ combinations of remaining `n` items with `k` places."
   ]
  },
  {
   "cell_type": "markdown",
   "metadata": {},
   "source": [
    "## Ex. 20"
   ]
  },
  {
   "cell_type": "markdown",
   "metadata": {},
   "source": [
    "a) Show using a story proof that $$ \\binom{k}{k} + \\binom{k+1}{k} + ... + \\binom{n}{k} = \\binom{n+1}{k+1} $$"
   ]
  },
  {
   "cell_type": "markdown",
   "metadata": {},
   "source": [
    "This can be proved if we order items by assigning an integer from 0 to n to each element. Then we can fix the element with the largest index and count the subsets containing this element. There will be $\\binom{n}{k}$ such subsets since we took out one element from the set to choose from and we have one less vacant spot. After that we can take the next largest element and count subsets where it is the element with the largest index. There are `k` vacant spots as before but `n - 1` elements to choose from after we remove largest element and current element. Continuing in this way we get the expression on the left."
   ]
  },
  {
   "cell_type": "markdown",
   "metadata": {},
   "source": [
    "b) Suppose that a large pack of Haribo gummi bears can have anywhere between 30 and 50 gummi bears. There are 5 delicious flavors: pineapple (clear), raspberry (red), orange (orange), strawberry (green, mysteriously), and lemon (yellow). There are 0 non-delicious flavors. How many possibilities are there for the composition of such a pack of gummi bears? You can leave your answer in terms of a couple binomial coefficients, but not a sum of lots of binomial coefficients."
   ]
  },
  {
   "cell_type": "markdown",
   "metadata": {},
   "source": [
    "Distributing Haribo bears between flavors can be found using start and bars method. There are $\\binom{n + k - 1}{k}$ ways to do this where n is the number of flavors and k is the number of bears. Alternatively it can be expressed as $\\binom{n + k - 1}{n - 1}$. We need to sum over possible number of bears in a pack which is from 30 to 50. If we iterate from 0 to N it is the same as the hockey stick identity and results in the following sum: $$\\sum_{i = 0}^{k}{\\binom{n - 1 + i}{n - 1}}$$ giving $$\\binom{n+k}{n}$$ ways to arrange the pack. Since we need to exclude invalid sizes we get $$\\binom{50+5}{5} - \\binom{29 + 5}{5}$$"
   ]
  },
  {
   "cell_type": "markdown",
   "metadata": {},
   "source": [
    "## Ex. 24\n",
    "\n",
    "A certain family has 6 children, consisting of 3 boys and 3 girls. Assuming that all\n",
    "birth orders are equally likely, what is the probability that the 3 eldest children are the\n",
    "3 girls?"
   ]
  },
  {
   "cell_type": "markdown",
   "metadata": {},
   "source": [
    "We can use naive definition since all orders are equally likely. Number of ways to satisfy the condition is $3!*3!$ since there are 3! ways to assign orders to 3 girls and same for boys. Number of ways to arrange girls and boys is $\\binom{6}{3}$ each of which has the same number of ways to arrange girls and boys between themselves 3!3!. Therefore the answer is $\\frac{1}{\\binom{6}{3}}$"
   ]
  },
  {
   "cell_type": "code",
   "execution_count": 60,
   "metadata": {},
   "outputs": [
    {
     "data": {
      "text/plain": [
       "0.05"
      ]
     },
     "execution_count": 60,
     "metadata": {},
     "output_type": "execute_result"
    }
   ],
   "source": [
    "from scipy.special import comb\n",
    "\n",
    "1 / comb(6, 3)"
   ]
  },
  {
   "cell_type": "markdown",
   "metadata": {},
   "source": [
    "## Ex. 25\n",
    "\n",
    "A city with 6 districts has 6 robberies in a particular week. Assume the robberies are\n",
    "located randomly, with all possibilities for which robbery occurred where equally likely.\n",
    "What is the probability that some district had more than 1 robbery?"
   ]
  },
  {
   "cell_type": "markdown",
   "metadata": {},
   "source": [
    "This is the birthday problem. It is easier to calculate the probability of the complement. The first robbery happens in some district and after that the next one have probability $5/6$ to not happen in the same one. For the next the probability is $4/6$ and so on. The result is: $$1 - \\prod_1^5{\\frac{6 - k}{6}}$$"
   ]
  },
  {
   "cell_type": "code",
   "execution_count": 95,
   "metadata": {},
   "outputs": [
    {
     "data": {
      "text/plain": [
       "0.9845679012345679"
      ]
     },
     "execution_count": 95,
     "metadata": {},
     "output_type": "execute_result"
    }
   ],
   "source": [
    "from numpy import prod\n",
    "\n",
    "n = 6\n",
    "m = 6\n",
    "\n",
    "1 - prod([(n - k)/n for k in range(1, m)])"
   ]
  },
  {
   "cell_type": "markdown",
   "metadata": {},
   "source": [
    "## Ex. 28\n",
    "\n",
    "A college has 10 time slots for its courses, and blithely assigns courses to completely\n",
    "random time slots, independently. The college offers exactly 3 statistics courses. What\n",
    "is the probability that 2 or more of the statistics courses are in the same time slot?"
   ]
  },
  {
   "cell_type": "markdown",
   "metadata": {},
   "source": [
    "This looks like the birthday problem again:"
   ]
  },
  {
   "cell_type": "code",
   "execution_count": 93,
   "metadata": {},
   "outputs": [
    {
     "data": {
      "text/plain": [
       "0.2799999999999999"
      ]
     },
     "execution_count": 93,
     "metadata": {},
     "output_type": "execute_result"
    }
   ],
   "source": [
    "from numpy import prod\n",
    "\n",
    "n = 10\n",
    "m = 3\n",
    "\n",
    "1 - prod([(n - k)/n for k in range(1, m)])"
   ]
  },
  {
   "cell_type": "markdown",
   "metadata": {},
   "source": [
    "## Ex. 29\n",
    "\n",
    "For each part, decide whether the blank should be filled in with =, <, or >, and give a clear explanation.\n",
    "\n",
    "(a) (probability that the total after rolling 4 fair dice is 21) > (probability that the total after rolling 4 fair dice is 22)\n",
    "\n",
    "Because there are more ways the sum of 4 dice can be 21.\n",
    "\n",
    "(b) (probability that a random 2-letter word is a palindrome) = (probability that a random 3-letter word is a palindrome)\n",
    "\n",
    "Because the middle letter does not affect whether the word is palindrome we have the same proportion of palindroms. When going from 2-letter-word set to 3-letter-word set each word is expanded to 26 new ones but exactly same proportion are palindromes."
   ]
  },
  {
   "cell_type": "markdown",
   "metadata": {},
   "source": [
    "## Ex. 31\n",
    "\n",
    "Elk dwell in a certain forest.\n",
    "\n",
    "- there are N elk\n",
    "- n are captured and tagged\n",
    "- a new sample with size m is drawn\n",
    "\n",
    "what is the probability that exactly k of the m elk in the new sample were previously tagged?"
   ]
  },
  {
   "cell_type": "markdown",
   "metadata": {},
   "source": [
    "The total number of ways to select m out of N elk is $\\binom{N}{m}$, number of ways to select k tagged and $m - k$ untagged ones is the number of ways to choose k out of n muplipled by the number of ways to choose $m - k$ out of $N - n$. The answer is $$\\frac{\\binom{n}{k}\\binom{N - n}{m - k}}{\\binom{N}{m}}$$"
   ]
  },
  {
   "cell_type": "markdown",
   "metadata": {},
   "source": [
    "## Ex. 33\n",
    "\n",
    "r red balls and g green balls\n",
    "\n",
    "a) why probability of a second ball being green is the same as the probability of the first ball being green\n",
    "\n",
    "b) define notation for the sample space and compute probability from a\n",
    "\n",
    "c) supposing that there are 16 balls what should be r and g so that the probability of two random balls being the same color is the same as them being different colors"
   ]
  },
  {
   "cell_type": "markdown",
   "metadata": {},
   "source": [
    "a) Since we don't know the color of the first ball when we look at the second ball it does not matter which is first and which is the second. We can arrange them in a row covered by cups and lift cups one by one. It does not matter in which order the cups are lifted to look at the color of the ball underneath it."
   ]
  },
  {
   "cell_type": "markdown",
   "metadata": {},
   "source": [
    "c)\n",
    "\n",
    "same: green + green, red + red\n",
    "\n",
    "different: green + red, red + green\n",
    "\n",
    "$P_{same}: \\frac{g}{r + g}\\frac{g - 1}{r + g - 1} + \\frac{r}{r + g}\\frac{r - 1}{r + g - 1}$\n",
    "\n",
    "$P_{diff}: \\frac{g}{r + g}\\frac{r}{r + g - 1} + \\frac{r}{r + g}\\frac{g}{r + g - 1} $\n",
    "\n",
    "$P_{diff} = P_{same}: g(g - 1) + r(r - 1) = 2gr = g^2 - g + r^2 - r = 2gr$\n",
    "\n",
    "$g = 16 - r$\n",
    "\n",
    "$(16 - r)^2 - 16 + r + r^2 - r = 2r(16 - r)$\n",
    "\n",
    "$4r^2 - 64r + 240 = 0$"
   ]
  },
  {
   "cell_type": "code",
   "execution_count": 58,
   "metadata": {},
   "outputs": [
    {
     "data": {
      "text/plain": [
       "[6, 10]"
      ]
     },
     "execution_count": 58,
     "metadata": {},
     "output_type": "execute_result"
    }
   ],
   "source": [
    "import sympy as sym\n",
    "\n",
    "r = sym.symbols('r')\n",
    "equation = 4 * r ** 2 - 64 * r + 240\n",
    "sym.solve(equation, r)"
   ]
  },
  {
   "cell_type": "markdown",
   "metadata": {},
   "source": [
    "## Ex. 42\n",
    "\n",
    "Show that the probability that the random no-repeat word contains all 26 letters is close to $1/e$"
   ]
  },
  {
   "cell_type": "markdown",
   "metadata": {},
   "source": [
    "Number of no-repeat words containing:\n",
    "- 26 letters: `26!`\n",
    "- 25 letters: $\\binom{26}{25}25!$\n",
    "\n",
    "Number of all no-repeat words is $\\sum_{k=0}^{26}{\\binom{26}{k}k!} = \\sum_{k=0}^{26}{\\frac{26!}{(26-k)!k!}k!} = \\sum_{k=0}^{26}{\\frac{26!}{(26-k)!}}$\n",
    "\n",
    "$\\sum_{k=0}^{26}{\\frac{1}{(26-k)!}} = \\sum_{k=0}^{26}{\\frac{1}{26!}} \\approx e$"
   ]
  },
  {
   "cell_type": "code",
   "execution_count": 8,
   "metadata": {},
   "outputs": [
    {
     "data": {
      "text/plain": [
       "0.3678794411714423"
      ]
     },
     "execution_count": 8,
     "metadata": {},
     "output_type": "execute_result"
    }
   ],
   "source": [
    "import numpy as np\n",
    "import math\n",
    "from scipy.special import binom\n",
    "\n",
    "n = 26\n",
    "np.math.factorial(n) / (sum(binom(n, k) * np.math.factorial(k) for k in range(n + 1)))"
   ]
  },
  {
   "cell_type": "code",
   "execution_count": 45,
   "metadata": {},
   "outputs": [
    {
     "data": {
      "text/plain": [
       "0.36787944117144233"
      ]
     },
     "execution_count": 45,
     "metadata": {},
     "output_type": "execute_result"
    }
   ],
   "source": [
    "1 / math.e"
   ]
  },
  {
   "cell_type": "code",
   "execution_count": 9,
   "metadata": {},
   "outputs": [
    {
     "data": {
      "text/plain": [
       "2.718281828459045"
      ]
     },
     "execution_count": 9,
     "metadata": {},
     "output_type": "execute_result"
    }
   ],
   "source": [
    "sum(1 / np.math.factorial(26 - k) for k in range(27))"
   ]
  },
  {
   "cell_type": "markdown",
   "metadata": {},
   "source": [
    "## Ex. 61\n",
    "\n",
    "100 seats and 100 passengers. First one decides to sit random, others take their if available, random otherwise. Find the probability that the last passenger gets their assigned seat."
   ]
  },
  {
   "cell_type": "markdown",
   "metadata": {},
   "source": [
    "The first passenger selects:\n",
    "- assigned seat with probability $1/100$ (in which case the last one gets assigned seat as well).\n",
    "- the seat of the last passenger ($P = 1/100$): the last one does not get assigned seat\n",
    "- seat of a random passenger ($P = 98/100$): we continue\n",
    "\n",
    "The second:\n",
    "- assigned seat if the first selected own seat or other seat $99/100$: this will identical for subsequent passengers until we get to the one with the seat occupied by the first passenger\n",
    "- assigned seat of the first passenger $1/99$: this is the same as for the first passenger who might have choosen the first seat, in this case assigned seat of passenger2 becomes seat1\n",
    "- seat of the last passenger $1/99$\n",
    "- random seat $97/99$: in this case we get same problem but with a smaller size\n",
    "\n",
    "In general after N steps (current step is N + 1) we get 3 possibilites:\n",
    "- seat100 is occupied: the end, $P = 1/(100 - N)$\n",
    "- seat R < N is selected: all N seats are occupied and subsequent passengers get assigned seats $P = 1/(100 - N)$\n",
    "- seat M > N is selected: we move to step M, $P = \\frac{100 - N - 2}{100 - N}$\n",
    "\n",
    "It does not matter which way we came to step M: after the first passenger selected seatM or if each M-1 seats were picked by wrong passengers forcing others to select wrong seats\n",
    "\n",
    "Let $P_1$ be the probability that seat100 is selected by the wrong passenger while we still have 98 steps to go. It is equal to the sum of:\n",
    "- probability that seat100 is selected 1/100\n",
    "- probability that the next step is taken multiplied by probability that seat100 is taken after this step is taken; probability of each possibility is 1/100:\n",
    "\n",
    "$$P_{1} = \\frac{1}{100} + \\sum_{n=2}^{99}{\\frac{1}{100}P_{n}}$$\n",
    "\n",
    "in general probability that that seatM is taken at n'th step assuming it was not picked before is:\n",
    "\n",
    "$$P_{n} = \\frac{1}{M - n + 1} + \\sum_{i=n+1}^{M - 1}{\\frac{1}{M - n + 1}P_{i}} $$\n"
   ]
  },
  {
   "cell_type": "code",
   "execution_count": 352,
   "metadata": {},
   "outputs": [
    {
     "data": {
      "text/plain": [
       "0.4936"
      ]
     },
     "execution_count": 352,
     "metadata": {},
     "output_type": "execute_result"
    }
   ],
   "source": [
    "import random\n",
    "\n",
    "def select_seats():\n",
    "    number_of_seats = 100\n",
    "    seats_list = list(range(1, number_of_seats + 1))\n",
    "    seats = {i: True for i in seats_list}\n",
    "    first_seat = random.choice(seats_list)\n",
    "    \n",
    "    if first_seat == number_of_seats:\n",
    "        return False\n",
    "\n",
    "    seats[first_seat] = False\n",
    "    \n",
    "#     print(seats)\n",
    "\n",
    "    available_seats = [seat for seat in seats.keys() if seats[seat]]\n",
    "#     print(available_seats)\n",
    "\n",
    "    for passenger in range(2, number_of_seats):\n",
    "        if seats[passenger]:\n",
    "            seats[passenger] = False\n",
    "        else:\n",
    "            seat = random.choice(available_seats)\n",
    "            if seat == number_of_seats:\n",
    "                return False\n",
    "\n",
    "            seats[seat] = False\n",
    "        available_seats = [seat for seat in seats.keys() if seats[seat]]\n",
    "#         print(seats)\n",
    "#         print(available_seats)\n",
    "\n",
    "    return True\n",
    "\n",
    "\n",
    "successes = 0\n",
    "tries = 10000\n",
    "successes = sum(select_seats() for _ in range(tries))\n",
    "successes / tries"
   ]
  },
  {
   "cell_type": "code",
   "execution_count": 355,
   "metadata": {},
   "outputs": [
    {
     "name": "stdout",
     "output_type": "stream",
     "text": [
      "n: 4 k: 1.0 s: 0 res: 0\n",
      "n: 3 k: 0.5 s: 0.0 res: 0.5\n",
      "n: 4 k: 1.0 s: 0 res: 0\n",
      "n: 2 k: 0.3333333333333333 s: 0.16666666666666666 res: 0.5\n",
      "n: 3 k: 0.5 s: 0 res: 0.5\n",
      "n: 4 k: 1.0 s: 0 res: 0\n",
      "n: 1 k: 0.25 s: 0.25 res: 0.5\n"
     ]
    },
    {
     "data": {
      "text/plain": [
       "0.5"
      ]
     },
     "execution_count": 355,
     "metadata": {},
     "output_type": "execute_result"
    }
   ],
   "source": [
    "M = 4\n",
    "mem = {}\n",
    "\n",
    "def P_n(n):\n",
    "    k = 1 / (M - n + 1)\n",
    "    s = 0\n",
    "    if n == M:\n",
    "        res =  0\n",
    "    elif n in mem:\n",
    "        res = mem[n]\n",
    "    else:\n",
    "        s = sum(P_n(i) * k for i in range(n + 1, M + 1))\n",
    "        res = k + s\n",
    "        mem[n] = res\n",
    "\n",
    "    print(\"n: {} k: {} s: {} res: {}\".format(n, k, s, res))\n",
    "\n",
    "    return res\n",
    "    \n",
    "P_n(1)"
   ]
  },
  {
   "cell_type": "markdown",
   "metadata": {},
   "source": [
    "We can guess that the P_n = 0.5 for any n and prove it by induction. If we plug it into the general equation:\n",
    "\n",
    "$$P_{n} = \\frac{1}{M - n + 1} + \\sum_{i=n+1}^{M - 1}{\\frac{1}{M - n + 1}P_{i}} $$\n",
    "\n",
    "\n",
    "$$P_{n} = \\frac{1}{M - n + 1} + \\sum_{i=n+1}^{M - 1}{\\frac{1}{M - n + 1}\\frac{1}{2}} = $$\n",
    "$$\\frac{1}{M - n + 1} + (M - n - 1)\\frac{1}{M - n + 1}\\frac{1}{2} = $$\n",
    "$$\\frac{1 + \\frac{1}{2}(M - n - 1)}{M - n + 1} = $$\n",
    "$$\\frac{\\frac{1}{2}(M - n + 1)}{M - n + 1} = \\frac{1}{2}$$"
   ]
  }
 ],
 "metadata": {
  "kernelspec": {
   "display_name": "Python 3",
   "language": "python",
   "name": "python3"
  },
  "language_info": {
   "codemirror_mode": {
    "name": "ipython",
    "version": 3
   },
   "file_extension": ".py",
   "mimetype": "text/x-python",
   "name": "python",
   "nbconvert_exporter": "python",
   "pygments_lexer": "ipython3",
   "version": "3.7.5"
  }
 },
 "nbformat": 4,
 "nbformat_minor": 4
}
