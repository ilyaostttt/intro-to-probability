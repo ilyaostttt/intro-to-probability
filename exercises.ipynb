{
 "cells": [
  {
   "cell_type": "markdown",
   "metadata": {},
   "source": [
    "# Chapter 1"
   ]
  },
  {
   "cell_type": "markdown",
   "metadata": {},
   "source": [
    "## Ex. 8"
   ]
  },
  {
   "cell_type": "markdown",
   "metadata": {},
   "source": [
    "(a) How many ways are there to split a dozen people into 3 teams, where one team\n",
    "has 2 people, and the other two teams have 5 people each?"
   ]
  },
  {
   "cell_type": "code",
   "execution_count": 3,
   "metadata": {},
   "outputs": [
    {
     "data": {
      "text/plain": [
       "192.0"
      ]
     },
     "execution_count": 3,
     "metadata": {},
     "output_type": "execute_result"
    }
   ],
   "source": [
    "from scipy.special import comb\n",
    "\n",
    "comb(12, 2) + comb(10, 5) / 2"
   ]
  },
  {
   "cell_type": "markdown",
   "metadata": {},
   "source": [
    "We need to divide the second item by 2 since two teams of 5 are indistinguishable and therefore each combination is counted twice:\n",
    " - the first time when it is selected as team 1 and remaining members go to team 2 and\n",
    " - the second time when remaining members are selected for team 1.\n",
    " \n",
    "In fact selection introduces team labeling implicitly while teams are actually indistinguishable."
   ]
  },
  {
   "cell_type": "markdown",
   "metadata": {},
   "source": [
    "(b) How many ways are there to split a dozen people into 3 teams, where each team has\n",
    "4 people?"
   ]
  },
  {
   "cell_type": "code",
   "execution_count": 8,
   "metadata": {},
   "outputs": [
    {
     "data": {
      "text/plain": [
       "565.0"
      ]
     },
     "execution_count": 8,
     "metadata": {},
     "output_type": "execute_result"
    }
   ],
   "source": [
    "comb(12, 4) + comb(8, 4)"
   ]
  },
  {
   "cell_type": "markdown",
   "metadata": {},
   "source": [
    "## Ex. 9\n",
    "\n",
    "(a) How many paths are there from the point (0; 0) to the point (110; 111) in the\n",
    "plane such that each step either consists of going one unit up or one unit to the right?\n",
    "\n",
    "(b) How many paths are there from (0; 0) to (210; 211), where each step consists of going\n",
    "one unit up or one unit to the right, and the path has to go through (110; 111)?"
   ]
  },
  {
   "cell_type": "code",
   "execution_count": null,
   "metadata": {},
   "outputs": [],
   "source": []
  },
  {
   "cell_type": "markdown",
   "metadata": {},
   "source": [
    "## Ex. 15 "
   ]
  },
  {
   "cell_type": "markdown",
   "metadata": {},
   "source": [
    "Give a story proof that $\\sum_{k=0}^n \\binom{n}{k} = 2^n$"
   ]
  },
  {
   "cell_type": "markdown",
   "metadata": {},
   "source": [
    "Sum on the left enumerates all the subsets of various sizes of a set consisting of `n` elements. Let's prove that there are $2^n$ subsets of a set consisting of `n` elements. We can prove it by induction assuming that it is true for sets of size `n - 1` and observing that adding a new element doubles the number of existing subsets by generating a new subset containing new element."
   ]
  },
  {
   "cell_type": "markdown",
   "metadata": {},
   "source": [
    "## Ex. 16"
   ]
  },
  {
   "cell_type": "markdown",
   "metadata": {},
   "source": [
    "Show that for all positive integers `n` and `k` with `n >= k`: $$\\binom{n}{k} + \\binom{n}{k - 1} = \\binom{n + 1}{k} $$"
   ]
  },
  {
   "cell_type": "markdown",
   "metadata": {},
   "source": [
    "Story: if we select any element of the set of `n + 1` elements in the right item we can split $\\binom{n + 1}{k}$ combinations into two groups:\n",
    " - 1st group containing selected element: there are $\\binom{n}{k - 1}$ such combinations since we have only `n` elements to choose from and one of the `k` places is occupied\n",
    " - 2nd group of $\\binom{n}{k}$ combinations of remaining `n` items with `k` places."
   ]
  }
 ],
 "metadata": {
  "kernelspec": {
   "display_name": "Python 3",
   "language": "python",
   "name": "python3"
  },
  "language_info": {
   "codemirror_mode": {
    "name": "ipython",
    "version": 3
   },
   "file_extension": ".py",
   "mimetype": "text/x-python",
   "name": "python",
   "nbconvert_exporter": "python",
   "pygments_lexer": "ipython3",
   "version": "3.7.5"
  }
 },
 "nbformat": 4,
 "nbformat_minor": 4
}
